{
  "cells": [
    {
      "cell_type": "markdown",
      "id": "db689fc2",
      "metadata": {
        "id": "db689fc2"
      },
      "source": [
        "### Question 1: Write a Python program to count the number of characters in a string without using len function.\n",
        "\n",
        "- `sample input : `\n",
        "    - `var = 'python java'`\n",
        "- `sample output :`\n",
        "    - `result : 11`"
      ]
    },
    {
      "cell_type": "code",
      "execution_count": null,
      "id": "c9ce9180",
      "metadata": {
        "id": "c9ce9180",
        "outputId": "b782d407-26ee-46ea-9003-e1c02ec83702",
        "colab": {
          "base_uri": "https://localhost:8080/"
        }
      },
      "outputs": [
        {
          "output_type": "stream",
          "name": "stdout",
          "text": [
            "11\n"
          ]
        }
      ],
      "source": [
        "# Please write The solution Here for above question 1:\n",
        "\n",
        "var='python java'\n",
        "\n",
        "count = 0\n",
        "\n",
        "for i in var:\n",
        "  count+=1\n",
        "\n",
        "print(count)\n",
        "\n",
        "\n",
        "\n"
      ]
    },
    {
      "cell_type": "markdown",
      "id": "46f069cc",
      "metadata": {
        "id": "46f069cc"
      },
      "source": [
        "### Question 2: Write a Python program to reverse a string without using [::-1]\n",
        "\n",
        "- `sample input : `\n",
        "    - `var = 'python'`\n",
        "- `sample output :`\n",
        "    - `result : nohtyp`"
      ]
    },
    {
      "cell_type": "code",
      "execution_count": null,
      "id": "2cde3dcc",
      "metadata": {
        "id": "2cde3dcc",
        "outputId": "131a3741-bb28-412f-f896-03d811f3bb40",
        "colab": {
          "base_uri": "https://localhost:8080/"
        }
      },
      "outputs": [
        {
          "output_type": "stream",
          "name": "stdout",
          "text": [
            "nohtyp\n"
          ]
        }
      ],
      "source": [
        "# Please write The solution Here for above question 2:\n",
        "\n",
        "var='python'\n",
        "\n",
        "reversed_var=''\n",
        "\n",
        "for i in var:\n",
        " reversed_var=i+reversed_var\n",
        "\n",
        "print(reversed_var)\n",
        "\n"
      ]
    },
    {
      "cell_type": "markdown",
      "id": "0f3a2ef5",
      "metadata": {
        "id": "0f3a2ef5"
      },
      "source": [
        "### Question 3: Write a Python program to check if a string is a palindrome don't use [::-1].\n",
        "\n",
        "- `sample input : `\n",
        "    - `var = 'NUN'`\n",
        "- `sample output :`\n",
        "    - `result : It is a Palindrome`\n",
        "    \n",
        "- `palindrome concept = https://www.dictionary.com/e/palindromic-word/#:~:text=A%20palindrome%20is%20a%20word,roots%20in%20the%20early%201600s.`"
      ]
    },
    {
      "cell_type": "code",
      "execution_count": null,
      "id": "74b9f01a",
      "metadata": {
        "id": "74b9f01a",
        "outputId": "1eb4bd3f-0216-4b57-a759-af246a607352",
        "colab": {
          "base_uri": "https://localhost:8080/"
        }
      },
      "outputs": [
        {
          "output_type": "stream",
          "name": "stdout",
          "text": [
            "it is a polindram\n"
          ]
        }
      ],
      "source": [
        "# Please write The solution Here for above question 3:\n",
        "\n",
        "var= 'NUN'\n",
        "\n",
        "str= \"\"\n",
        "\n",
        "for i in var:\n",
        "  str=i+str\n",
        "\n",
        "if(var==str):\n",
        "    print(\"it is a polindram\")\n",
        "else:\n",
        "    print(\"it is not a polindram\")\n",
        "\n"
      ]
    },
    {
      "cell_type": "markdown",
      "id": "98e0fc60",
      "metadata": {
        "id": "98e0fc60"
      },
      "source": [
        "### Question 4: Write a Python program to find the most common character in a string.\n",
        "\n",
        "- `sample input : `\n",
        "    - `var = 'Hello world '`\n",
        "- `sample output :`\n",
        "    - `result : l, because l is repeating 3 times `"
      ]
    },
    {
      "cell_type": "code",
      "execution_count": null,
      "id": "d9aa4ca6",
      "metadata": {
        "id": "d9aa4ca6",
        "outputId": "8fd159eb-fa8d-45bc-d075-ff3143c505af",
        "colab": {
          "base_uri": "https://localhost:8080/"
        }
      },
      "outputs": [
        {
          "output_type": "stream",
          "name": "stdout",
          "text": [
            "l\n"
          ]
        }
      ],
      "source": [
        "# Please write The solution Here for above question 4:\n",
        "\n",
        "#text='Hello World'\n",
        "#print(text.count('l'))\n",
        "\n",
        "var='Hello World'\n",
        "\n",
        "most_common_char=max(set(var),key=var.count)\n",
        "#print('The most common  character is' ,most_common_char)\n",
        "\n",
        "print(most_common_char)\n",
        "\n"
      ]
    },
    {
      "cell_type": "markdown",
      "id": "17eb44eb",
      "metadata": {
        "id": "17eb44eb"
      },
      "source": [
        "### Question 5: Write a Python program to check if two strings are anagrams.\n",
        "\n",
        "- `sample input : `\n",
        "    - `var1 = 'listen'`\n",
        "    - `var2 = 'silent'`\n",
        "- `sample output :`\n",
        "    - `result : both are anagram because characters in var2 is in var1`"
      ]
    },
    {
      "cell_type": "code",
      "execution_count": null,
      "id": "29f0e87e",
      "metadata": {
        "id": "29f0e87e",
        "outputId": "932ce2f5-540b-4352-af7d-669bb09097eb",
        "colab": {
          "base_uri": "https://localhost:8080/"
        }
      },
      "outputs": [
        {
          "output_type": "stream",
          "name": "stdout",
          "text": [
            "both are anagrams because characters in var2 is in var1\n"
          ]
        }
      ],
      "source": [
        "# Please write The solution Here for above question 5:\n",
        "\n",
        "var1 = \"listen\"\n",
        "var2 = \"silent\"\n",
        "\n",
        "var1=sorted(var1.lower())\n",
        "var2=sorted(var2.lower())\n",
        "\n",
        "if var1==var2:\n",
        "  print(\"both are anagrams because characters in var2 is in var1\")\n",
        "else:\n",
        "    print(\"both are anagrams because characters in var2 is in var1\")\n"
      ]
    },
    {
      "cell_type": "markdown",
      "id": "fac17884",
      "metadata": {
        "id": "fac17884"
      },
      "source": [
        "### Question 6: Write a Python program to remove all the vowels from a string.\n",
        "\n",
        "- `sample input : `\n",
        "    - `var = 'python'`\n",
        "- `sample output :`\n",
        "    - `result : pythn , because vowels are [AEIOUaeiou]`"
      ]
    },
    {
      "cell_type": "code",
      "execution_count": null,
      "id": "f4b33095",
      "metadata": {
        "id": "f4b33095",
        "outputId": "6e107bee-12ef-46fe-ab28-223b2ef746b6",
        "colab": {
          "base_uri": "https://localhost:8080/"
        }
      },
      "outputs": [
        {
          "output_type": "stream",
          "name": "stdout",
          "text": [
            "pythn , bacause vovels are [AEIOUaeiou]\n"
          ]
        }
      ],
      "source": [
        "# Please write The solution Here for above question 6:\n",
        "\n",
        "var = 'python'\n",
        "\n",
        "vowels = ['a','e','i','o','u']\n",
        "result = \"\"\n",
        "\n",
        "for i in range(len(var)):\n",
        "  if var[i] not in vowels:\n",
        "    result = result + var[i]\n",
        "\n",
        "print(result,\", bacause vovels are [AEIOUaeiou]\")\n"
      ]
    },
    {
      "cell_type": "markdown",
      "id": "2170d6f4",
      "metadata": {
        "id": "2170d6f4"
      },
      "source": [
        "### Question 7: Write a Python program to find the longest word in a string.\n",
        "\n",
        "- `sample input : `\n",
        "    - `var = 'python is Easy Language'`\n",
        "- `sample output :`\n",
        "    - `result : Language`"
      ]
    },
    {
      "cell_type": "code",
      "execution_count": null,
      "id": "f35de8b3",
      "metadata": {
        "id": "f35de8b3",
        "outputId": "3d41d34a-4b90-4edb-9931-d9877a59856c",
        "colab": {
          "base_uri": "https://localhost:8080/"
        }
      },
      "outputs": [
        {
          "output_type": "stream",
          "name": "stdout",
          "text": [
            "Longest word is: Language\n"
          ]
        }
      ],
      "source": [
        "# Please write The solution Here for above question 7:\n",
        "\n",
        "var = 'python is easy Language'\n",
        "\n",
        "longest = max(var.split(),key=len)\n",
        "\n",
        "print(\"Longest word is:\" ,longest)\n"
      ]
    },
    {
      "cell_type": "markdown",
      "id": "f349bdb7",
      "metadata": {
        "id": "f349bdb7"
      },
      "source": [
        "### Question 8: Write a Python program to capitalize the first letter of each word in a string [dont use built-in-function title].\n",
        "\n",
        "- `sample input : `\n",
        "    - `var = 'python is easy'`\n",
        "- `sample output :`\n",
        "    - `result : Python Is Easy`"
      ]
    },
    {
      "cell_type": "markdown",
      "source": [],
      "metadata": {
        "id": "vBMu4414h7cj"
      },
      "id": "vBMu4414h7cj"
    },
    {
      "cell_type": "code",
      "execution_count": null,
      "id": "a1b4c4e6",
      "metadata": {
        "id": "a1b4c4e6",
        "outputId": "157f2c64-0bde-4548-958b-d5365c767f07",
        "colab": {
          "base_uri": "https://localhost:8080/"
        }
      },
      "outputs": [
        {
          "output_type": "stream",
          "name": "stdout",
          "text": [
            "Python Is Easy\n"
          ]
        }
      ],
      "source": [
        "# Please write The solution Here for above question 8:\n",
        "\n",
        "var ='python is easy'\n",
        "\n",
        "var1=var.split(\" \")[0].capitalize()+\" \"+var.split(\" \")[1].capitalize()+\" \"+var.split(\" \")[2].capitalize()\n",
        "\n",
        "print(var1)\n",
        "\n"
      ]
    },
    {
      "cell_type": "markdown",
      "id": "d2770696",
      "metadata": {
        "id": "d2770696"
      },
      "source": [
        "### Question 9: Write a Python program to find the frequency of each character in a string.\n",
        "\n",
        "- `sample input : `\n",
        "    - `var = 'sharuk khan'`\n",
        "- `sample output :`\n",
        "    - `result : {'s': 1, 'h': 2, 'a': 2, 'r': 1, 'u': 1, 'k': 2, ' ': 1, 'n': 1}`"
      ]
    },
    {
      "cell_type": "code",
      "execution_count": null,
      "id": "7fdc2e9c",
      "metadata": {
        "id": "7fdc2e9c",
        "outputId": "e8cb885a-4c0f-41c9-ece7-a695bae61346",
        "colab": {
          "base_uri": "https://localhost:8080/"
        }
      },
      "outputs": [
        {
          "output_type": "stream",
          "name": "stdout",
          "text": [
            "s: 1, h: 2, a: 2, r: 1, u: 1, k: 2,  : 1, k: 2, h: 2, a: 2, n: 1, "
          ]
        }
      ],
      "source": [
        "# Please write The solution Here for above question 9:\n",
        "\n",
        "var = \"sharuk khan\"\n",
        "\n",
        "for i in var:\n",
        "  frequency = var.count(i)\n",
        "  print(str(i) +\": \" + str(frequency), end=\", \")\n",
        "\n"
      ]
    },
    {
      "cell_type": "markdown",
      "id": "5c9a3f09",
      "metadata": {
        "id": "5c9a3f09"
      },
      "source": [
        "### Question 10: write a python programme to find the sum of all the even characters based on Ascii values\n",
        "\n",
        "- `sample input : `\n",
        "    - `var = 'sharuk khan'`\n",
        "- `sample output :`\n",
        "    - `result : 464`\n"
      ]
    },
    {
      "cell_type": "code",
      "source": [],
      "metadata": {
        "id": "-I7pb5TyUXuL"
      },
      "id": "-I7pb5TyUXuL",
      "execution_count": null,
      "outputs": []
    },
    {
      "cell_type": "code",
      "execution_count": null,
      "id": "57c0c30e",
      "metadata": {
        "id": "57c0c30e"
      },
      "outputs": [],
      "source": [
        "# Please write The solution Here for above question 10:\n",
        "\n",
        "\n",
        "\n",
        "\n",
        "pass\n",
        "\n",
        "\n",
        "\n",
        "\n",
        "\n",
        "\n",
        "# saikamal9797@gmail.com"
      ]
    },
    {
      "cell_type": "code",
      "execution_count": null,
      "id": "0cb2936c",
      "metadata": {
        "id": "0cb2936c"
      },
      "outputs": [],
      "source": []
    }
  ],
  "metadata": {
    "kernelspec": {
      "display_name": "Python 3 (ipykernel)",
      "language": "python",
      "name": "python3"
    },
    "language_info": {
      "codemirror_mode": {
        "name": "ipython",
        "version": 3
      },
      "file_extension": ".py",
      "mimetype": "text/x-python",
      "name": "python",
      "nbconvert_exporter": "python",
      "pygments_lexer": "ipython3",
      "version": "3.11.5"
    },
    "colab": {
      "provenance": []
    }
  },
  "nbformat": 4,
  "nbformat_minor": 5
}